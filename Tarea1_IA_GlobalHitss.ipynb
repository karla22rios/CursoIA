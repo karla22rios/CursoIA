{
  "nbformat": 4,
  "nbformat_minor": 0,
  "metadata": {
    "colab": {
      "provenance": [],
      "authorship_tag": "ABX9TyP0hhg2sSwfQWL0SPZd/GDC",
      "include_colab_link": true
    },
    "kernelspec": {
      "name": "python3",
      "display_name": "Python 3"
    },
    "language_info": {
      "name": "python"
    }
  },
  "cells": [
    {
      "cell_type": "markdown",
      "metadata": {
        "id": "view-in-github",
        "colab_type": "text"
      },
      "source": [
        "<a href=\"https://colab.research.google.com/github/karla22rios/CursoIA/blob/main/Tarea1_IA_GlobalHitss.ipynb\" target=\"_parent\"><img src=\"https://colab.research.google.com/assets/colab-badge.svg\" alt=\"Open In Colab\"/></a>"
      ]
    },
    {
      "cell_type": "markdown",
      "source": [
        "Ejercicio 1 - IA"
      ],
      "metadata": {
        "id": "g10_RGu5sg9Y"
      }
    },
    {
      "cell_type": "markdown",
      "source": [
        "Resumen\n",
        "\n",
        "“Inteligencia Artificial es cualquier tecnología que tiene como propósito imitar las acciones o Actividades del ser Humano\"\n",
        "\n",
        "“Machine learning\" es una rama de la IA que se enfoca en el desarrollo de algoritmos y modelos informáticos que pueden aprender y mejorar su rendimiento en tareas específicas a partir de la experiencia y los datos sin necesidad de una programación explícita.\n",
        "\n",
        "El Deep Learining y las redes neuronales son un tipo de modelo de machine learning. Están compuestas por capas de nodos interconectados llamados neuronas, y estas capas pueden ser muy profundas, lo que significa que pueden contener muchas capas ocultas entre la capa de entrada y la capa de salida.\n",
        "\n",
        "El procesamiento del lenguaje natural (NLP) es el área de la IA que se\n",
        "enfoca en reconocer, entender, analizar e incluso emular cómo los\n",
        "humanos se comunican utilizando tanto el habla como el texto escrito\n",
        "o ambos. Un ejemplo de dónde se utiliza el NLP es con cualquiera de\n",
        "los diversos asistentes de voz personales.\n",
        "\n",
        "*   Siri\n",
        "*   Alexa\n",
        "*   Traducción automática\n",
        "*   Chatbot"
      ],
      "metadata": {
        "id": "gJFLDVYjumbE"
      }
    },
    {
      "cell_type": "markdown",
      "source": [
        "Pregunta\n",
        "\n",
        "¿Qué tipo de aprendizaje sería ideal para predecir la deserción estudiantil en una universidad? ¿Por qué?\n",
        "\n",
        "Respuesta:\n",
        "Aprendizaje supervisado.\n",
        "El aprendizaje no supervisado implica el hecho de que una IA recibe un conjunto de datos de entrada sin etiquetar y debe encontrar patrones o estructuras interesantes en estos datos. El sistema busca agrupar los datos en categorías o identificar relaciones entre las variables sin la ayuda de etiquetas predefinidas. Por ejemplo, el clustering de datos permite al sistema identificar grupos de datos similares en función de características comunes sin conocimiento previo de las categorías. Aunque revela patrones o tendencias ocultas en los datos sin necesidad de etiquetas y es útil para explorar grandes conjuntos de datos, la interpretación de los resultados puede ser subjetiva y la evaluación del rendimiento puede ser más difícil sin una medida clara de éxito."
      ],
      "metadata": {
        "id": "sHxEiFG7usad"
      }
    }
  ]
}