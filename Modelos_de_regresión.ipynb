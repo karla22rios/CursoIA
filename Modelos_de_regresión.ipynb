{
  "nbformat": 4,
  "nbformat_minor": 0,
  "metadata": {
    "colab": {
      "provenance": [],
      "authorship_tag": "ABX9TyNOzq2qcgiVQ3zoXjX2yJmo",
      "include_colab_link": true
    },
    "kernelspec": {
      "name": "python3",
      "display_name": "Python 3"
    },
    "language_info": {
      "name": "python"
    }
  },
  "cells": [
    {
      "cell_type": "markdown",
      "metadata": {
        "id": "view-in-github",
        "colab_type": "text"
      },
      "source": [
        "<a href=\"https://colab.research.google.com/github/karla22rios/CursoIA/blob/main/Modelos_de_regresi%C3%B3n.ipynb\" target=\"_parent\"><img src=\"https://colab.research.google.com/assets/colab-badge.svg\" alt=\"Open In Colab\"/></a>"
      ]
    },
    {
      "cell_type": "markdown",
      "source": [
        "# Modelos de predicción\n",
        "1.   Regresión lineal simple\n",
        "2.   Regresión multiple\n",
        "\n",
        "**Caso de uso**\n",
        "\n",
        "Factor de predecir el precio de una bolsa\n",
        "\n",
        "Y = precio de la bolsa\n",
        "\n",
        "Factores o variables:\n",
        "\n",
        "*   Marca\n",
        "*   Tipo de tela\n",
        "*   Método de fabricación (hecha a mano o en máquina)\n",
        "*   Número de productos que saldrán a la venta\n",
        "*   Colección\n",
        "*   Tamaño\n",
        "*   Color\n",
        "*   Demanda de la marca\n",
        "\n",
        "Notas: Solo debe ser una Y\n"
      ],
      "metadata": {
        "id": "9qsp0UwLBMRx"
      }
    },
    {
      "cell_type": "markdown",
      "source": [
        "# Coeficiente de determinación\n",
        "1.   R*2\n",
        "2.   Ajustado\n",
        "\n",
        "Debe ser equiloibrado o balanceado"
      ],
      "metadata": {
        "id": "R1zlM6h9GY9M"
      }
    }
  ]
}