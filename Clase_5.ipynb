{
  "nbformat": 4,
  "nbformat_minor": 0,
  "metadata": {
    "colab": {
      "provenance": [],
      "authorship_tag": "ABX9TyOeObRWbNjnFh2zhL927m5L",
      "include_colab_link": true
    },
    "kernelspec": {
      "name": "python3",
      "display_name": "Python 3"
    },
    "language_info": {
      "name": "python"
    }
  },
  "cells": [
    {
      "cell_type": "markdown",
      "metadata": {
        "id": "view-in-github",
        "colab_type": "text"
      },
      "source": [
        "<a href=\"https://colab.research.google.com/github/karla22rios/CursoIA/blob/main/Clase_5.ipynb\" target=\"_parent\"><img src=\"https://colab.research.google.com/assets/colab-badge.svg\" alt=\"Open In Colab\"/></a>"
      ]
    },
    {
      "cell_type": "markdown",
      "source": [
        "# Clases no balanceadas y matriz\n",
        "\n",
        "Caso de uso\n",
        "Muertes o sobrevivencia de una persona en un hospital, depende de antecendentes médicos, edad, alimentación"
      ],
      "metadata": {
        "id": "Q7iw36gKlvXg"
      }
    }
  ]
}